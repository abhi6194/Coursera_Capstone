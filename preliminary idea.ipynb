{
 "cells": [
  {
   "cell_type": "markdown",
   "metadata": {},
   "source": [
    "## Background / Business Problem"
   ]
  },
  {
   "cell_type": "markdown",
   "metadata": {},
   "source": [
    "The location of a store could profoundly influence its sales, revenue, customers, cost, and therefore, profit. As a result, store allocation becomes an important and prior problem for businesses when deciding to open a new shop. The goal of this project is to **find a profitable location for a store in a competitive environment**. \t \n"
   ]
  },
  {
   "cell_type": "markdown",
   "metadata": {},
   "source": [
    "## Data Description"
   ]
  },
  {
   "cell_type": "markdown",
   "metadata": {},
   "source": [
    "Data used in this project would mainly be retrieved from Foursquare. Foursquare data contains various location information of different shops which include, popularity ranking, restaurant type, distance from subway, price range, and rating. This information allows us to construct a statistic model for selecting the location to open a coffee shop."
   ]
  },
  {
   "cell_type": "markdown",
   "metadata": {},
   "source": [
    "The factors that will be considered are:\n",
    "\n",
    "* distance between the nearby coffee shop\n",
    "* number of coffee shop in the area\n",
    "* distance from the subway station\n"
   ]
  },
  {
   "cell_type": "code",
   "execution_count": null,
   "metadata": {},
   "outputs": [],
   "source": []
  }
 ],
 "metadata": {
  "kernelspec": {
   "display_name": "Python 3",
   "language": "python",
   "name": "python3"
  },
  "language_info": {
   "codemirror_mode": {
    "name": "ipython",
    "version": 3
   },
   "file_extension": ".py",
   "mimetype": "text/x-python",
   "name": "python",
   "nbconvert_exporter": "python",
   "pygments_lexer": "ipython3",
   "version": "3.7.4"
  }
 },
 "nbformat": 4,
 "nbformat_minor": 2
}
